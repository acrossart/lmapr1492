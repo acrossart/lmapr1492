{
 "cells": [
  {
   "cell_type": "code",
   "execution_count": 10,
   "metadata": {},
   "outputs": [
    {
     "name": "stdout",
     "output_type": "stream",
     "text": [
      "Full Formula (Cd2 Se2)\n",
      "Reduced Formula: CdSe\n",
      "abc   :   4.393951   4.393951   7.170578\n",
      "angles:  90.000000  90.000000 120.000000\n",
      "Sites (4)\n",
      "  #  SP           a         b          c    magmom\n",
      "---  ----  --------  --------  ---------  --------\n",
      "  0  Se    0.666667  0.333333   0.875891         0\n",
      "  1  Se    0.333333  0.666667   0.375891         0\n",
      "  2  Cd    0.666667  0.333333   0.499969         0\n",
      "  3  Cd    0.333333  0.666667  -3.1e-05          0\n"
     ]
    }
   ],
   "source": [
    "from pymatgen.ext.matproj import *  \n",
    "\n",
    "with MPRester(\"rjzlkOjkFDW0uIctnb2o\") as m:\n",
    "    structure = m.get_structure_by_material_id(\"mp-1070\")\n",
    "    dos = m.get_dos_by_material_id(\"mp-1234\")\n",
    "    structure.to(filename=\"CdSe.cif\")\n",
    "    "
   ]
  },
  {
   "cell_type": "code",
   "execution_count": null,
   "metadata": {},
   "outputs": [],
   "source": []
  },
  {
   "cell_type": "code",
   "execution_count": null,
   "metadata": {},
   "outputs": [],
   "source": []
  },
  {
   "cell_type": "code",
   "execution_count": null,
   "metadata": {},
   "outputs": [],
   "source": []
  },
  {
   "cell_type": "code",
   "execution_count": null,
   "metadata": {},
   "outputs": [],
   "source": []
  },
  {
   "cell_type": "code",
   "execution_count": null,
   "metadata": {},
   "outputs": [],
   "source": []
  },
  {
   "cell_type": "code",
   "execution_count": null,
   "metadata": {},
   "outputs": [],
   "source": []
  }
 ],
 "metadata": {
  "kernelspec": {
   "display_name": "Python 3",
   "language": "python",
   "name": "python3"
  },
  "language_info": {
   "codemirror_mode": {
    "name": "ipython",
    "version": 3
   },
   "file_extension": ".py",
   "mimetype": "text/x-python",
   "name": "python",
   "nbconvert_exporter": "python",
   "pygments_lexer": "ipython3",
   "version": "3.6.8"
  }
 },
 "nbformat": 4,
 "nbformat_minor": 2
}
