{
 "cells": [
  {
   "cell_type": "code",
   "execution_count": 12,
   "metadata": {},
   "outputs": [
    {
     "name": "stdout",
     "output_type": "stream",
     "text": [
      "Les pics de diffraction: DiffractionPattern\n",
      "$2\\Theta$: [23.357532   24.81282069 26.49546937 34.33719026 41.04917526 44.73767205\n",
      " 47.7632996  48.56042466 49.52502476 50.89567459 54.55799789 56.71642916\n",
      " 62.32322804 64.76441375 66.2177332  67.36367093 70.05784745 70.48675298\n",
      " 72.36636747 74.78518591 77.37146263 80.20507141 80.26145965 84.53616418\n",
      " 84.99738997 86.72803167 89.04971134]\n",
      "Intensity: [100.          59.85923975  75.2461896   38.38684626  88.76174612\n",
      "  88.06077747  14.13836704  56.09617846  13.03613746   0.49263387\n",
      "   9.77879014   0.51156046  31.66338751  11.00377697  10.450002\n",
      "   1.13941596  22.60106507   8.87010447   0.2262261   14.40748221\n",
      "  33.57615424  12.4545567    1.98232482  13.78945493   2.60256211\n",
      "   0.27964417   9.54333204]\n",
      "indice hkl correspondant au 3 premiers pic: [{'hkl': (1, 0, -1, 0), 'multiplicity': 6}] [{'hkl': (0, 0, 0, 2), 'multiplicity': 2}] [{'hkl': (1, 0, -1, 1), 'multiplicity': 12}]\n"
     ]
    }
   ],
   "source": [
    "from pymatgen.ext.matproj import *  \n",
    "from pymatgen.analysis.diffraction.xrd import *  \n",
    "from pymatgen.io.cif import CifParser\n",
    "with MPRester(\"rjzlkOjkFDW0uIctnb2o\") as m:\n",
    "    structure = m.get_structure_by_material_id(\"mp-1070\")\n",
    "\n",
    "    dos = m.get_dos_by_material_id(\"mp-1070\")\n",
    "    structure.to(filename=\"CdSe.cif\")\n",
    "    parser = CifParser(\"CdSe.cif\")\n",
    "    Structure = parser.get_structures()[0]\n",
    "\n",
    "a=XRDCalculator('CuKa1',0)  \n",
    "#Les pic\n",
    "Pic=a.get_pattern(Structure,True)\n",
    "#Les indices hkl\n",
    "indice=Pic.hkls\n",
    "#Les Pic du difractogramme\n",
    "print('Les pics de diffraction:',Pic)\n",
    "#Les 3 indice hkl associé au 3 premier pic\n",
    "print('Indice hkl correspondant au 3 premiers pic:',indice[0],indice[1],indice[2])"
   ]
  },
  {
   "cell_type": "code",
   "execution_count": null,
   "metadata": {},
   "outputs": [],
   "source": []
  },
  {
   "cell_type": "code",
   "execution_count": null,
   "metadata": {},
   "outputs": [],
   "source": []
  }
 ],
 "metadata": {
  "kernelspec": {
   "display_name": "Python 3",
   "language": "python",
   "name": "python3"
  },
  "language_info": {
   "codemirror_mode": {
    "name": "ipython",
    "version": 3
   },
   "file_extension": ".py",
   "mimetype": "text/x-python",
   "name": "python",
   "nbconvert_exporter": "python",
   "pygments_lexer": "ipython3",
   "version": "3.6.8"
  }
 },
 "nbformat": 4,
 "nbformat_minor": 2
}
