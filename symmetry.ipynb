{
 "cells": [
  {
   "cell_type": "code",
   "execution_count": 48,
   "metadata": {},
   "outputs": [],
   "source": [
    "from pymatgen.ext.matproj import *   \n",
    "from pymatgen.core.operations import SymmOp\n",
    "import numpy as np\n",
    "with MPRester(\"rjzlkOjkFDW0uIctnb2o\") as m:\n",
    "    structure = m.get_structure_by_material_id(\"mp-1070\")\n",
    "\n",
    "    dos = m.get_dos_by_material_id(\"mp-1070\")\n",
    "    structure.to(filename=\"CdSe.cif\")\n",
    "\n",
    "\n",
    "   \n",
    "a=structure.sites\n",
    "\n",
    " \n",
    "\n"
   ]
  },
  {
   "cell_type": "code",
   "execution_count": 49,
   "metadata": {},
   "outputs": [
    {
     "name": "stdout",
     "output_type": "stream",
     "text": [
      "6_fold screw axis: new position of Cd1: [0.3334 0.6667 1.    ]\n"
     ]
    }
   ],
   "source": [
    "#6_fold screw axis\n",
    "Cd1=np.array([0.6667, 0.3333, 0.5000])\n",
    "rot=np.array([[1.,-1.,0.],[1.,0.,0.],[0.,0.,1.]])\n",
    "trans=np.array([0.,0.,0.5])\n",
    "SymmOp.from_rotation_and_translation(rot,trans)\n",
    "print('6_fold screw axis:','new position of Cd1:' ,SymmOp.operate(SymmOp.from_rotation_and_translation(rot,trans),Cd1))"
   ]
  },
  {
   "cell_type": "markdown",
   "metadata": {},
   "source": [
    "![6_fold_screw_axis_Cd1](https://user-images.githubusercontent.com/60964808/76742638-b2fb4b00-6771-11ea-8df4-78786141d5b6.jpg)"
   ]
  },
  {
   "cell_type": "code",
   "execution_count": 50,
   "metadata": {},
   "outputs": [
    {
     "name": "stdout",
     "output_type": "stream",
     "text": [
      "Miror plane:new position of Cd0: [ 0.3333 -0.3334  0.    ]\n"
     ]
    }
   ],
   "source": [
    "#Miror plane\n",
    "Cd0=np.array([0.3333, 0.6667, -0.0000])\n",
    "rot=np.array([[1.,0.,0.],[1.,-1.,0.],[0.,0.,1.]])\n",
    "trans=np.array([0.,0.,0])\n",
    "SymmOp.from_rotation_and_translation(rot,trans)\n",
    "print('Miror plane:''new position of Cd0:' ,SymmOp.operate(SymmOp.from_rotation_and_translation(rot,trans),Cd0))\n"
   ]
  },
  {
   "cell_type": "markdown",
   "metadata": {},
   "source": [
    "![Mirror_plane(Cd0)](https://user-images.githubusercontent.com/60964808/76742398-5435d180-6771-11ea-90b6-363c7ba480cb.jpg)"
   ]
  },
  {
   "cell_type": "code",
   "execution_count": 51,
   "metadata": {},
   "outputs": [
    {
     "name": "stdout",
     "output_type": "stream",
     "text": [
      "C-glide place:new position of Se0: [0.6667 0.3333 0.8759]\n"
     ]
    }
   ],
   "source": [
    "#C-glide plane\n",
    "Se0=np.array([0.3333, 0.6667, 0.3759])\n",
    "rot=np.array([[0.,1.,0.],[1.,0.,0.],[0.,0.,1.]])\n",
    "trans=np.array([0.,0.,0.5])\n",
    "SymmOp.from_rotation_and_translation(rot,trans)\n",
    "print('C-glide place:''new position of Se0:' ,SymmOp.operate(SymmOp.from_rotation_and_translation(rot,trans),Se0))"
   ]
  },
  {
   "cell_type": "markdown",
   "metadata": {},
   "source": [
    "![C-glide_plane(Se0)](https://user-images.githubusercontent.com/60964808/76742167-f99c7580-6770-11ea-83f9-3e4c5ea8f3d9.jpg)"
   ]
  },
  {
   "cell_type": "code",
   "execution_count": null,
   "metadata": {},
   "outputs": [],
   "source": []
  }
 ],
 "metadata": {
  "kernelspec": {
   "display_name": "Python 3",
   "language": "python",
   "name": "python3"
  },
  "language_info": {
   "codemirror_mode": {
    "name": "ipython",
    "version": 3
   },
   "file_extension": ".py",
   "mimetype": "text/x-python",
   "name": "python",
   "nbconvert_exporter": "python",
   "pygments_lexer": "ipython3",
   "version": "3.6.8"
  }
 },
 "nbformat": 4,
 "nbformat_minor": 2
}
